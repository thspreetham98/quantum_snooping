{
 "cells": [
  {
   "cell_type": "markdown",
   "metadata": {},
   "source": [
    "# About the experiment"
   ]
  },
  {
   "cell_type": "markdown",
   "metadata": {},
   "source": [
    "Aim:\n",
    "1. Determine if crosstalk causes phase noise errors(Z-flips) or amplitude noise errors(X-flips).\n",
    "2. Determine how snooping time window effects our ability to detect CNOTs\n",
    "\n",
    "Backend: IBM Lagos \\\n",
    "Victim Qubits: (3, 5) \\\n",
    "Victim CNOTs applied: [ (3, 5) ] \\\n",
    "Attacker Qubits: (0, 1, 2, 4, 6)"
   ]
  },
  {
   "cell_type": "markdown",
   "metadata": {},
   "source": [
    "# Imports"
   ]
  },
  {
   "cell_type": "code",
   "execution_count": 1,
   "metadata": {},
   "outputs": [],
   "source": [
    "from qiskit import QuantumCircuit, QuantumRegister, ClassicalRegister\n",
    "from qiskit.circuit import Parameter\n",
    "from qiskit_ibm_provider import IBMProvider\n",
    "\n",
    "from qiskit.transpiler import PassManager, Layout\n",
    "from qiskit.transpiler.passes import SetLayout, ApplyLayout, ASAPSchedule\n",
    "from qiskit.transpiler.preset_passmanagers import generate_preset_pass_manager"
   ]
  },
  {
   "cell_type": "markdown",
   "metadata": {},
   "source": [
    "# Parameters"
   ]
  },
  {
   "cell_type": "code",
   "execution_count": 2,
   "metadata": {},
   "outputs": [],
   "source": [
    "ibm_backend_name = 'ibm_lagos'\n",
    "victim_qubit_indices = (1, 3)\n",
    "attack_qubit_indices = (0, 2, 4, 5, 6)\n",
    "cx_delay_dt = 1504\n",
    "victim_initial_delay = 160\n",
    "snooping_base_dt = 160"
   ]
  },
  {
   "cell_type": "code",
   "execution_count": 3,
   "metadata": {},
   "outputs": [
    {
     "name": "stdout",
     "output_type": "stream",
     "text": [
      "[160, 320, 640, 1280, 2560]\n",
      "5\n"
     ]
    }
   ],
   "source": [
    "snooping_durations_dt = []\n",
    "\n",
    "snooping_duration_dt = snooping_base_dt\n",
    "while snooping_duration_dt <= cx_delay_dt:\n",
    "    snooping_durations_dt.append(snooping_duration_dt)\n",
    "    snooping_duration_dt *= 2\n",
    "snooping_durations_dt.append(snooping_duration_dt)\n",
    "\n",
    "\n",
    "print(snooping_durations_dt)\n",
    "print(len(snooping_durations_dt))"
   ]
  },
  {
   "cell_type": "markdown",
   "metadata": {},
   "source": [
    "# Create Circuits"
   ]
  },
  {
   "cell_type": "markdown",
   "metadata": {},
   "source": [
    "## Victim Circuit"
   ]
  },
  {
   "cell_type": "code",
   "execution_count": 4,
   "metadata": {},
   "outputs": [],
   "source": [
    "victim_qregs = QuantumRegister(2)"
   ]
  },
  {
   "cell_type": "code",
   "execution_count": 5,
   "metadata": {},
   "outputs": [],
   "source": [
    "blank_victim_circ = QuantumCircuit(victim_qregs, name=\"Blank Victim Circ\")"
   ]
  },
  {
   "cell_type": "code",
   "execution_count": 6,
   "metadata": {},
   "outputs": [
    {
     "data": {
      "text/plain": [
       "<qiskit.circuit.instructionset.InstructionSet at 0x7f65d4f3fbe0>"
      ]
     },
     "execution_count": 6,
     "metadata": {},
     "output_type": "execute_result"
    }
   ],
   "source": [
    "victim_qc_with_cnot = QuantumCircuit(victim_qregs, name=\"Victim Circ\")\n",
    "victim_qc_with_cnot.cx(victim_qregs[0], victim_qregs[1])"
   ]
  },
  {
   "cell_type": "code",
   "execution_count": 7,
   "metadata": {},
   "outputs": [
    {
     "data": {
      "image/png": "[encoded data removed]",
      "text/plain": [
       "<Figure size 179.906x200.667 with 1 Axes>"
      ]
     },
     "metadata": {},
     "output_type": "display_data"
    },
    {
     "data": {
      "image/png": "[encoded data removed]",
      "text/plain": [
       "<Figure size 221.712x200.667 with 1 Axes>"
      ]
     },
     "metadata": {},
     "output_type": "display_data"
    }
   ],
   "source": [
    "display(blank_victim_circ.draw('mpl'))\n",
    "display(victim_qc_with_cnot.draw('mpl'))"
   ]
  },
  {
   "cell_type": "markdown",
   "metadata": {},
   "source": [
    "## Attack Circuits"
   ]
  },
  {
   "cell_type": "code",
   "execution_count": 8,
   "metadata": {},
   "outputs": [],
   "source": [
    "attack_qregs = QuantumRegister(5)\n",
    "attack_cregs = ClassicalRegister(5)\n",
    "snooping_duration_param = Parameter(\"snooping_duration\")"
   ]
  },
  {
   "cell_type": "code",
   "execution_count": 9,
   "metadata": {},
   "outputs": [
    {
     "data": {
      "text/plain": [
       "<qiskit.circuit.instructionset.InstructionSet at 0x7f6653233100>"
      ]
     },
     "execution_count": 9,
     "metadata": {},
     "output_type": "execute_result"
    }
   ],
   "source": [
    "attack_qc_z_flips = QuantumCircuit(attack_qregs, attack_cregs, name=\"Attack Circ\")\n",
    "attack_qc_z_flips.delay(snooping_duration_param)\n",
    "attack_qc_z_flips.measure(attack_qregs, attack_cregs)"
   ]
  },
  {
   "cell_type": "code",
   "execution_count": 10,
   "metadata": {},
   "outputs": [
    {
     "data": {
      "text/plain": [
       "<qiskit.circuit.instructionset.InstructionSet at 0x7f65d3ecebc0>"
      ]
     },
     "execution_count": 10,
     "metadata": {},
     "output_type": "execute_result"
    }
   ],
   "source": [
    "attack_qc_x_flips = QuantumCircuit(attack_qregs, attack_cregs)\n",
    "attack_qc_x_flips.h(attack_qregs)\n",
    "attack_qc_x_flips.delay(snooping_duration_param)\n",
    "attack_qc_x_flips.h(attack_qregs)\n",
    "attack_qc_x_flips.measure(attack_qregs, attack_cregs)"
   ]
  },
  {
   "cell_type": "markdown",
   "metadata": {},
   "source": [
    "## Full Circuits"
   ]
  },
  {
   "cell_type": "code",
   "execution_count": 11,
   "metadata": {},
   "outputs": [],
   "source": [
    "full_qcs = []\n",
    "qregs = QuantumRegister(7)\n",
    "cregs = ClassicalRegister(5)\n",
    "\n",
    "initial_qc = QuantumCircuit(qregs, cregs)\n",
    "\n",
    "for victim_qc in [blank_victim_circ, victim_qc_with_cnot]:\n",
    "    for attack_qc in [attack_qc_z_flips, attack_qc_x_flips]:\n",
    "        for snooping_duration_dt in snooping_durations_dt:\n",
    "            qc = initial_qc.compose(victim_qc, qregs[0:2])\n",
    "            qc = qc.compose(attack_qc.bind_parameters({snooping_duration_param: snooping_duration_dt}), qregs[2:])\n",
    "            full_qcs.append(qc)"
   ]
  },
  {
   "cell_type": "code",
   "execution_count": 12,
   "metadata": {},
   "outputs": [
    {
     "data": {
      "text/plain": [
       "{Qubit(QuantumRegister(7, 'q2'), 0): 1,\n",
       " Qubit(QuantumRegister(7, 'q2'), 1): 3,\n",
       " Qubit(QuantumRegister(7, 'q2'), 2): 0,\n",
       " Qubit(QuantumRegister(7, 'q2'), 3): 2,\n",
       " Qubit(QuantumRegister(7, 'q2'), 4): 4,\n",
       " Qubit(QuantumRegister(7, 'q2'), 5): 5,\n",
       " Qubit(QuantumRegister(7, 'q2'), 6): 6}"
      ]
     },
     "execution_count": 12,
     "metadata": {},
     "output_type": "execute_result"
    }
   ],
   "source": [
    "layout_dict = { }\n",
    "\n",
    "for qreg, index in zip(qregs[0:2], victim_qubit_indices):\n",
    "    layout_dict[qreg] = index\n",
    "\n",
    "for qreg, index in zip(qregs[2:], attack_qubit_indices):\n",
    "    layout_dict[qreg] = index\n",
    "\n",
    "layout_dict"
   ]
  },
  {
   "cell_type": "markdown",
   "metadata": {},
   "source": [
    "# Compile experiments"
   ]
  },
  {
   "cell_type": "code",
   "execution_count": 13,
   "metadata": {},
   "outputs": [],
   "source": [
    "try:\n",
    "    print(provider)\n",
    "except NameError:\n",
    "    provider = IBMProvider()"
   ]
  },
  {
   "cell_type": "code",
   "execution_count": 14,
   "metadata": {},
   "outputs": [],
   "source": [
    "backend = provider.get_backend(ibm_backend_name)\n",
    "# config = backend.configuration()\n",
    "# props = backend.properties()"
   ]
  },
  {
   "cell_type": "code",
   "execution_count": 15,
   "metadata": {},
   "outputs": [],
   "source": [
    "pm = generate_preset_pass_manager(0, backend)\n",
    "layout = Layout(layout_dict)\n",
    "pm.layout = PassManager([\n",
    "    SetLayout(layout),\n",
    "    ApplyLayout()\n",
    "])\n",
    "\n",
    "pm.scheduling = PassManager([\n",
    "    ASAPSchedule(backend.instruction_durations)\n",
    "])"
   ]
  },
  {
   "cell_type": "code",
   "execution_count": 16,
   "metadata": {},
   "outputs": [],
   "source": [
    "full_tqcs = pm.run(full_qcs)"
   ]
  },
  {
   "cell_type": "code",
   "execution_count": 17,
   "metadata": {},
   "outputs": [
    {
     "data": {
      "text/plain": [
       "20"
      ]
     },
     "execution_count": 17,
     "metadata": {},
     "output_type": "execute_result"
    }
   ],
   "source": [
    "len(full_tqcs)"
   ]
  },
  {
   "cell_type": "markdown",
   "metadata": {},
   "source": [
    "## Timeline Viewer"
   ]
  },
  {
   "cell_type": "code",
   "execution_count": 29,
   "metadata": {},
   "outputs": [
    {
     "data": {
      "image/png": "[encoded data removed]",
      "text/plain": [
       "<Figure size 1400x640 with 1 Axes>"
      ]
     },
     "metadata": {},
     "output_type": "display_data"
    }
   ],
   "source": [
    "from qiskit.visualization import timeline_drawer\n",
    "\n",
    "i = 5\n",
    "display(timeline_drawer(full_tqcs[i]))"
   ]
  },
  {
   "cell_type": "markdown",
   "metadata": {},
   "source": [
    "# Submit Job"
   ]
  },
  {
   "cell_type": "code",
   "execution_count": 19,
   "metadata": {},
   "outputs": [],
   "source": [
    "# job = backend.run(full_tqcs, shots=8000)\n",
    "# job.update_tags(['snooping', 'exp_1'])\n",
    "# print('New job: ', job.job_id())"
   ]
  },
  {
   "cell_type": "code",
   "execution_count": null,
   "metadata": {},
   "outputs": [],
   "source": []
  }
 ],
 "metadata": {
  "kernelspec": {
   "display_name": ".venv",
   "language": "python",
   "name": "python3"
  },
  "language_info": {
   "codemirror_mode": {
    "name": "ipython",
    "version": 3
   },
   "file_extension": ".py",
   "mimetype": "text/x-python",
   "name": "python",
   "nbconvert_exporter": "python",
   "pygments_lexer": "ipython3",
   "version": "3.11.2"
  }
 },
 "nbformat": 4,
 "nbformat_minor": 2
}
