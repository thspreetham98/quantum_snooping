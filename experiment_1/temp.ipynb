{
 "cells": [
  {
   "cell_type": "code",
   "execution_count": 5,
   "metadata": {},
   "outputs": [],
   "source": [
    "from qiskit_ibm_provider import IBMProvider"
   ]
  },
  {
   "cell_type": "code",
   "execution_count": 6,
   "metadata": {},
   "outputs": [],
   "source": [
    "provider = IBMProvider()"
   ]
  },
  {
   "cell_type": "code",
   "execution_count": 7,
   "metadata": {},
   "outputs": [],
   "source": [
    "ibm_backend_name = 'ibm_lagos'\n",
    "backend = provider.get_backend(ibm_backend_name)\n",
    "config = backend.configuration()"
   ]
  },
  {
   "cell_type": "code",
   "execution_count": 8,
   "metadata": {},
   "outputs": [
    {
     "data": {
      "text/plain": [
       "{'acquire0': {'operates': {'qubits': [0]},\n",
       "  'purpose': 'acquire',\n",
       "  'type': 'acquire'},\n",
       " 'acquire1': {'operates': {'qubits': [1]},\n",
       "  'purpose': 'acquire',\n",
       "  'type': 'acquire'},\n",
       " 'acquire2': {'operates': {'qubits': [2]},\n",
       "  'purpose': 'acquire',\n",
       "  'type': 'acquire'},\n",
       " 'acquire3': {'operates': {'qubits': [3]},\n",
       "  'purpose': 'acquire',\n",
       "  'type': 'acquire'},\n",
       " 'acquire4': {'operates': {'qubits': [4]},\n",
       "  'purpose': 'acquire',\n",
       "  'type': 'acquire'},\n",
       " 'acquire5': {'operates': {'qubits': [5]},\n",
       "  'purpose': 'acquire',\n",
       "  'type': 'acquire'},\n",
       " 'acquire6': {'operates': {'qubits': [6]},\n",
       "  'purpose': 'acquire',\n",
       "  'type': 'acquire'},\n",
       " 'd0': {'operates': {'qubits': [0]}, 'purpose': 'drive', 'type': 'drive'},\n",
       " 'd1': {'operates': {'qubits': [1]}, 'purpose': 'drive', 'type': 'drive'},\n",
       " 'd2': {'operates': {'qubits': [2]}, 'purpose': 'drive', 'type': 'drive'},\n",
       " 'd3': {'operates': {'qubits': [3]}, 'purpose': 'drive', 'type': 'drive'},\n",
       " 'd4': {'operates': {'qubits': [4]}, 'purpose': 'drive', 'type': 'drive'},\n",
       " 'd5': {'operates': {'qubits': [5]}, 'purpose': 'drive', 'type': 'drive'},\n",
       " 'd6': {'operates': {'qubits': [6]}, 'purpose': 'drive', 'type': 'drive'},\n",
       " 'm0': {'operates': {'qubits': [0]}, 'purpose': 'measure', 'type': 'measure'},\n",
       " 'm1': {'operates': {'qubits': [1]}, 'purpose': 'measure', 'type': 'measure'},\n",
       " 'm2': {'operates': {'qubits': [2]}, 'purpose': 'measure', 'type': 'measure'},\n",
       " 'm3': {'operates': {'qubits': [3]}, 'purpose': 'measure', 'type': 'measure'},\n",
       " 'm4': {'operates': {'qubits': [4]}, 'purpose': 'measure', 'type': 'measure'},\n",
       " 'm5': {'operates': {'qubits': [5]}, 'purpose': 'measure', 'type': 'measure'},\n",
       " 'm6': {'operates': {'qubits': [6]}, 'purpose': 'measure', 'type': 'measure'},\n",
       " 'u0': {'operates': {'qubits': [0, 1]},\n",
       "  'purpose': 'cross-resonance',\n",
       "  'type': 'control'},\n",
       " 'u1': {'operates': {'qubits': [1, 0]},\n",
       "  'purpose': 'cross-resonance',\n",
       "  'type': 'control'},\n",
       " 'u10': {'operates': {'qubits': [5, 6]},\n",
       "  'purpose': 'cross-resonance',\n",
       "  'type': 'control'},\n",
       " 'u11': {'operates': {'qubits': [6, 5]},\n",
       "  'purpose': 'cross-resonance',\n",
       "  'type': 'control'},\n",
       " 'u2': {'operates': {'qubits': [1, 2]},\n",
       "  'purpose': 'cross-resonance',\n",
       "  'type': 'control'},\n",
       " 'u3': {'operates': {'qubits': [1, 3]},\n",
       "  'purpose': 'cross-resonance',\n",
       "  'type': 'control'},\n",
       " 'u4': {'operates': {'qubits': [2, 1]},\n",
       "  'purpose': 'cross-resonance',\n",
       "  'type': 'control'},\n",
       " 'u5': {'operates': {'qubits': [3, 1]},\n",
       "  'purpose': 'cross-resonance',\n",
       "  'type': 'control'},\n",
       " 'u6': {'operates': {'qubits': [3, 5]},\n",
       "  'purpose': 'cross-resonance',\n",
       "  'type': 'control'},\n",
       " 'u7': {'operates': {'qubits': [4, 5]},\n",
       "  'purpose': 'cross-resonance',\n",
       "  'type': 'control'},\n",
       " 'u8': {'operates': {'qubits': [5, 3]},\n",
       "  'purpose': 'cross-resonance',\n",
       "  'type': 'control'},\n",
       " 'u9': {'operates': {'qubits': [5, 4]},\n",
       "  'purpose': 'cross-resonance',\n",
       "  'type': 'control'}}"
      ]
     },
     "execution_count": 8,
     "metadata": {},
     "output_type": "execute_result"
    }
   ],
   "source": [
    "config.channels"
   ]
  },
  {
   "cell_type": "code",
   "execution_count": 9,
   "metadata": {},
   "outputs": [
    {
     "data": {
      "text/plain": [
       "{'operates': {'qubits': [1, 0]},\n",
       " 'purpose': 'cross-resonance',\n",
       " 'type': 'control'}"
      ]
     },
     "execution_count": 9,
     "metadata": {},
     "output_type": "execute_result"
    }
   ],
   "source": [
    "config.channels['u1']"
   ]
  },
  {
   "cell_type": "code",
   "execution_count": 10,
   "metadata": {},
   "outputs": [
    {
     "data": {
      "text/plain": [
       "{(0, 1): [ControlChannel(0)],\n",
       " (1, 0): [ControlChannel(1)],\n",
       " (5, 6): [ControlChannel(10)],\n",
       " (6, 5): [ControlChannel(11)],\n",
       " (1, 2): [ControlChannel(2)],\n",
       " (1, 3): [ControlChannel(3)],\n",
       " (2, 1): [ControlChannel(4)],\n",
       " (3, 1): [ControlChannel(5)],\n",
       " (3, 5): [ControlChannel(6)],\n",
       " (4, 5): [ControlChannel(7)],\n",
       " (5, 3): [ControlChannel(8)],\n",
       " (5, 4): [ControlChannel(9)]}"
      ]
     },
     "execution_count": 10,
     "metadata": {},
     "output_type": "execute_result"
    }
   ],
   "source": [
    "config.control_channels"
   ]
  },
  {
   "cell_type": "code",
   "execution_count": 11,
   "metadata": {},
   "outputs": [],
   "source": [
    "c = config.control_channels[(0, 1)][0]"
   ]
  },
  {
   "cell_type": "code",
   "execution_count": 12,
   "metadata": {},
   "outputs": [
    {
     "data": {
      "text/plain": [
       "['cx',\n",
       " 'id',\n",
       " 'delay',\n",
       " 'measure',\n",
       " 'reset',\n",
       " 'rz',\n",
       " 'sx',\n",
       " 'x',\n",
       " 'if_else',\n",
       " 'for_loop',\n",
       " 'switch_case']"
      ]
     },
     "execution_count": 12,
     "metadata": {},
     "output_type": "execute_result"
    }
   ],
   "source": [
    "config.supported_instructions"
   ]
  },
  {
   "cell_type": "code",
   "execution_count": 13,
   "metadata": {},
   "outputs": [
    {
     "data": {
      "text/plain": [
       "GateConfig(cx, [], gate cx q0, q1 { CX q0, q1; }, [[0, 1], [1, 0], [1, 2], [1, 3], [2, 1], [3, 1], [3, 5], [4, 5], [5, 3], [5, 4], [5, 6], [6, 5]])"
      ]
     },
     "execution_count": 13,
     "metadata": {},
     "output_type": "execute_result"
    }
   ],
   "source": [
    "config.gates[-2]"
   ]
  },
  {
   "cell_type": "code",
   "execution_count": null,
   "metadata": {},
   "outputs": [],
   "source": []
  }
 ],
 "metadata": {
  "kernelspec": {
   "display_name": ".venv",
   "language": "python",
   "name": "python3"
  },
  "language_info": {
   "codemirror_mode": {
    "name": "ipython",
    "version": 3
   },
   "file_extension": ".py",
   "mimetype": "text/x-python",
   "name": "python",
   "nbconvert_exporter": "python",
   "pygments_lexer": "ipython3",
   "version": "3.11.2"
  }
 },
 "nbformat": 4,
 "nbformat_minor": 2
}
