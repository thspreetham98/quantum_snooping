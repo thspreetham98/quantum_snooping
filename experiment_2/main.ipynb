{
 "cells": [
  {
   "cell_type": "markdown",
   "metadata": {},
   "source": [
    "# About the experiment\n",
    "Aim: Determine if we can differentiate between 0, 1, 2 CNOTs being applied at the same time. Bonus if we can determine which CNOT is being applied exactly.\n",
    "Try both phase flips and amplitude flips attack model.\n",
    "\n",
    "To find out we take a 4 qubit chain for the victim qubits. That means there are 3 CNOT links and each link can be (OFF, +, -), where + and - signify the direction of the CNOT.\n",
    "\n",
    "1. No CNOTs - 1\n",
    "2. 1 CNOT - ${{3}\\choose{1}} \\times 2 = 6$\n",
    "3. 2 CNOTs - 4\\\n",
    "    We might think ${{3}\\choose{2}} \\times 2 = 6$ \\\n",
    "    But, we cannot have common qubits. So, we can only select the first and third link. Therefore, we get 4 possibilities.\n",
    "\n",
    "\n",
    "\n",
    "Backend: IBM Lagos.\n",
    "\n",
    "On this backend we can choose 4 such 4 qubit chains.\n",
    "Since we want to be able to detect upto two CNOTs we shall snoop for about 2 CNOT durations."
   ]
  },
  {
   "cell_type": "markdown",
   "metadata": {},
   "source": [
    "# Imports"
   ]
  },
  {
   "cell_type": "code",
   "execution_count": null,
   "metadata": {},
   "outputs": [],
   "source": [
    "from qiskit import QuantumRegister, ClassicalRegister, QuantumCircuit\n",
    "from qiskit.transpiler import CouplingMap\n",
    "from qiskit.circuit import Parameter\n",
    "\n",
    "import common.attacker as attack_helper"
   ]
  },
  {
   "cell_type": "markdown",
   "metadata": {},
   "source": [
    "# Create Victim Circuits"
   ]
  },
  {
   "cell_type": "code",
   "execution_count": null,
   "metadata": {},
   "outputs": [],
   "source": [
    "victim_qregs = QuantumRegister(4, name='vic')"
   ]
  },
  {
   "cell_type": "code",
   "execution_count": null,
   "metadata": {},
   "outputs": [],
   "source": [
    "victim_cm = CouplingMap([\n",
    "    [0, 1],\n",
    "    [1, 2],\n",
    "    [2, 3]\n",
    "])\n",
    "\n",
    "victim_cm.make_symmetric()"
   ]
  },
  {
   "cell_type": "code",
   "execution_count": null,
   "metadata": {},
   "outputs": [],
   "source": [
    "display(victim_cm.draw().convert('RGB'))"
   ]
  },
  {
   "cell_type": "code",
   "execution_count": null,
   "metadata": {},
   "outputs": [],
   "source": [
    "list(victim_cm.get_edges())"
   ]
  },
  {
   "cell_type": "markdown",
   "metadata": {},
   "source": [
    "## No CNOTs"
   ]
  },
  {
   "cell_type": "code",
   "execution_count": null,
   "metadata": {},
   "outputs": [],
   "source": [
    "def no_cnot_vic():\n",
    "    qc = QuantumCircuit(victim_qregs, name='no_cnots_victim')\n",
    "    return qc"
   ]
  },
  {
   "cell_type": "markdown",
   "metadata": {},
   "source": [
    "## 1 CNOT"
   ]
  },
  {
   "cell_type": "code",
   "execution_count": null,
   "metadata": {},
   "outputs": [],
   "source": [
    "def one_cnot_vic():\n",
    "    qcs = []\n",
    "    for cx_edge in victim_cm.get_edges():\n",
    "        qc = QuantumCircuit(victim_qregs, name='one_cnot_victim_{}'.format(cx_edge))\n",
    "        qc.cx(*cx_edge)\n",
    "        # qc.cx(cx_edge[0], cx_edge[1])\n",
    "        qcs.append(qc)\n",
    "    return qcs"
   ]
  },
  {
   "cell_type": "markdown",
   "metadata": {},
   "source": [
    "## 2 CNOTs"
   ]
  },
  {
   "cell_type": "code",
   "execution_count": null,
   "metadata": {},
   "outputs": [],
   "source": [
    "def two_cnot_vic():\n",
    "    group_1 = [(0, 1), (1, 0)] \n",
    "    group_2 = [(2, 3), (3, 2)]\n",
    "    qcs = []\n",
    "    for i in group_1:\n",
    "        for j in group_2:\n",
    "            qc = QuantumCircuit(victim_qregs)\n",
    "            qc.cx(*i)\n",
    "            qc.cx(*j)\n",
    "            qcs.append(qc)\n",
    "    return qcs"
   ]
  },
  {
   "cell_type": "markdown",
   "metadata": {},
   "source": [
    "## Consolidate"
   ]
  },
  {
   "cell_type": "code",
   "execution_count": null,
   "metadata": {},
   "outputs": [],
   "source": [
    "no_cnot_vic_qc = no_cnot_vic()\n",
    "one_cnot_vic_qcs = one_cnot_vic()\n",
    "two_cnot_vic_qcs = two_cnot_vic()"
   ]
  },
  {
   "cell_type": "markdown",
   "metadata": {},
   "source": [
    "# Create Attack Circuits"
   ]
  },
  {
   "cell_type": "code",
   "execution_count": null,
   "metadata": {},
   "outputs": [],
   "source": [
    "reps = 2\n",
    "attack_qregs = QuantumRegister(5)\n",
    "attack_cregs = ClassicalRegister(5 * reps)\n",
    "snooping_duration_param = Parameter(\"snooping_duration\")"
   ]
  },
  {
   "cell_type": "code",
   "execution_count": null,
   "metadata": {},
   "outputs": [],
   "source": [
    "attack_phase_flips_qc = attack_helper.attack_circ_phase_flips(attack_qregs, attack_cregs, snooping_duration_param, reps)"
   ]
  },
  {
   "cell_type": "code",
   "execution_count": null,
   "metadata": {},
   "outputs": [],
   "source": [
    "attack_phase_flips_qc.draw('mpl')"
   ]
  },
  {
   "cell_type": "code",
   "execution_count": null,
   "metadata": {},
   "outputs": [],
   "source": [
    "# def attack_circ_amplitude_flips(attack_qregs, attack_cregs, snooping_duration_param):\n",
    "#     attack_qc_z_flips = QuantumCircuit(attack_qregs, attack_cregs, name=\"Attack Circ\")\n",
    "#     attack_qc_z_flips.delay(snooping_duration_param)\n",
    "#     attack_qc_z_flips.measure(attack_qregs, attack_cregs)\n",
    "#     return attack_qc_z_flips"
   ]
  },
  {
   "cell_type": "code",
   "execution_count": null,
   "metadata": {},
   "outputs": [],
   "source": [
    "# def attack_circ_phase_flips(attack_qregs, attack_cregs, snooping_duration_param):\n",
    "#     attack_qc_x_flips = QuantumCircuit(attack_qregs, attack_cregs)\n",
    "#     attack_qc_x_flips.h(attack_qregs)\n",
    "#     attack_qc_x_flips.delay(snooping_duration_param)\n",
    "#     attack_qc_x_flips.h(attack_qregs)\n",
    "#     attack_qc_x_flips.measure(attack_qregs, attack_cregs)\n",
    "#     return attack_qc_x_flips"
   ]
  }
 ],
 "metadata": {
  "kernelspec": {
   "display_name": ".venv",
   "language": "python",
   "name": "python3"
  },
  "language_info": {
   "codemirror_mode": {
    "name": "ipython",
    "version": 3
   },
   "file_extension": ".py",
   "mimetype": "text/x-python",
   "name": "python",
   "nbconvert_exporter": "python",
   "pygments_lexer": "ipython3",
   "version": "3.11.2"
  }
 },
 "nbformat": 4,
 "nbformat_minor": 2
}
