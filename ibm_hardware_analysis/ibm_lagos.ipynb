{
 "cells": [
  {
   "cell_type": "code",
   "execution_count": 1,
   "metadata": {},
   "outputs": [],
   "source": [
    "from qiskit_ibm_provider import IBMProvider\n",
    "from qiskit.transpiler.coupling import CouplingMap"
   ]
  },
  {
   "cell_type": "code",
   "execution_count": 2,
   "metadata": {},
   "outputs": [],
   "source": [
    "try:\n",
    "    print(provider)\n",
    "except NameError:\n",
    "    provider = IBMProvider()"
   ]
  },
  {
   "cell_type": "code",
   "execution_count": 3,
   "metadata": {},
   "outputs": [],
   "source": [
    "ibm_backend_name = 'ibm_lagos'\n",
    "backend = provider.get_backend(ibm_backend_name)\n",
    "config = backend.configuration()\n",
    "props = backend.properties()"
   ]
  },
  {
   "cell_type": "markdown",
   "metadata": {},
   "source": [
    "# dt to nanoseconds"
   ]
  },
  {
   "cell_type": "code",
   "execution_count": 4,
   "metadata": {},
   "outputs": [
    {
     "data": {
      "text/plain": [
       "2.2222222222222221e-10"
      ]
     },
     "execution_count": 4,
     "metadata": {},
     "output_type": "execute_result"
    }
   ],
   "source": [
    "config.dt"
   ]
  },
  {
   "cell_type": "markdown",
   "metadata": {},
   "source": [
    "# Single qubit gate durations"
   ]
  },
  {
   "cell_type": "markdown",
   "metadata": {},
   "source": [
    "## Code"
   ]
  },
  {
   "cell_type": "code",
   "execution_count": 5,
   "metadata": {},
   "outputs": [
    {
     "data": {
      "text/plain": [
       "['cx', 'id', 'rz', 'sx', 'x']"
      ]
     },
     "execution_count": 5,
     "metadata": {},
     "output_type": "execute_result"
    }
   ],
   "source": [
    "config.basis_gates"
   ]
  },
  {
   "cell_type": "code",
   "execution_count": 6,
   "metadata": {},
   "outputs": [
    {
     "name": "stdout",
     "output_type": "stream",
     "text": [
      "id length in seconds: 3.5555555555555554e-08. \n",
      "id length in dt: 160.0. \n",
      "sx length in seconds: 3.5555555555555554e-08. \n",
      "sx length in dt: 160.0. \n",
      "x length in seconds: 3.5555555555555554e-08. \n",
      "x length in dt: 160.0. \n"
     ]
    }
   ],
   "source": [
    "for gate in ['id', 'sx', 'x']:\n",
    "    print(\"{} length in seconds: {}. \".format(gate, props.gate_length(gate, (1))))\n",
    "    print(\"{} length in dt: {}. \".format(gate, props.gate_length(gate, (1)) / config.dt ))"
   ]
  },
  {
   "cell_type": "markdown",
   "metadata": {},
   "source": [
    "## Analysis"
   ]
  },
  {
   "cell_type": "markdown",
   "metadata": {},
   "source": [
    "Each single qubit gate takes $35.555555555555554$ ns or $160$ dt."
   ]
  },
  {
   "cell_type": "markdown",
   "metadata": {},
   "source": [
    "# CX Duration"
   ]
  },
  {
   "cell_type": "code",
   "execution_count": 20,
   "metadata": {},
   "outputs": [
    {
     "name": "stdout",
     "output_type": "stream",
     "text": [
      "- (0, 1) 576.000 ns = 2592.0 dt\n",
      "- (1, 0) 611.556 ns = 2752.0 dt\n",
      "- (1, 2) 327.111 ns = 1472.0 dt\n",
      "- (1, 3) 334.222 ns = 1504.0 dt\n",
      "- (2, 1) 291.556 ns = 1312.0 dt\n",
      "- (3, 1) 298.667 ns = 1344.0 dt\n",
      "- (3, 5) 960.000 ns = 4320.0 dt\n",
      "- (4, 5) 362.667 ns = 1632.0 dt\n",
      "- (5, 3) 995.556 ns = 4480.000000000001 dt\n",
      "- (5, 4) 327.111 ns = 1472.0 dt\n",
      "- (5, 6) 256.000 ns = 1152.0000000000002 dt\n",
      "- (6, 5) 291.556 ns = 1312.0 dt\n"
     ]
    }
   ],
   "source": [
    "for q1, q2 in config.gates[4].coupling_map:\n",
    "    cx_len = props.gate_length('cx', (q1, q2))\n",
    "    cx_len_ns = cx_len * 1e+9\n",
    "    print(\"- {} {:.3f} ns = {} dt\".format((q1, q2), cx_len_ns, cx_len/ config.dt))"
   ]
  },
  {
   "cell_type": "markdown",
   "metadata": {},
   "source": [
    "# Readout duration"
   ]
  },
  {
   "cell_type": "code",
   "execution_count": 8,
   "metadata": {},
   "outputs": [
    {
     "data": {
      "text/plain": [
       "[1, 2]"
      ]
     },
     "execution_count": 8,
     "metadata": {},
     "output_type": "execute_result"
    }
   ],
   "source": [
    "config.meas_levels"
   ]
  },
  {
   "cell_type": "code",
   "execution_count": 12,
   "metadata": {},
   "outputs": [
    {
     "name": "stdout",
     "output_type": "stream",
     "text": [
      "0 duration in seconds:  7.893333333333333e-07\n",
      "0 duration in dt:  3552.0\n",
      "1 duration in seconds:  7.893333333333333e-07\n",
      "1 duration in dt:  3552.0\n",
      "2 duration in seconds:  7.893333333333333e-07\n",
      "2 duration in dt:  3552.0\n",
      "3 duration in seconds:  7.893333333333333e-07\n",
      "3 duration in dt:  3552.0\n",
      "4 duration in seconds:  7.893333333333333e-07\n",
      "4 duration in dt:  3552.0\n",
      "5 duration in seconds:  7.893333333333333e-07\n",
      "5 duration in dt:  3552.0\n",
      "6 duration in seconds:  7.893333333333333e-07\n",
      "6 duration in dt:  3552.0\n"
     ]
    }
   ],
   "source": [
    "for i in range(7):\n",
    "    print(i, \"duration in seconds: \", props.readout_length(i))\n",
    "    print(i, \"duration in dt: \", props.readout_length(i) / config.dt )"
   ]
  },
  {
   "cell_type": "markdown",
   "metadata": {},
   "source": [
    "Readout duration: $789.3333333333333$ ns"
   ]
  },
  {
   "cell_type": "markdown",
   "metadata": {},
   "source": [
    "# Final Results"
   ]
  },
  {
   "cell_type": "markdown",
   "metadata": {},
   "source": [
    "- Single qubit gate: $35.555555555555554$ ns = $160$ dt\n",
    "- Readout duration: $789.3333333333333$ ns = $3552$ dt"
   ]
  },
  {
   "cell_type": "markdown",
   "metadata": {},
   "source": [
    "## CNOT durations:"
   ]
  },
  {
   "cell_type": "markdown",
   "metadata": {},
   "source": [
    "- (0, 1) 576.000 ns = 2592.0 dt\n",
    "- (1, 0) 611.556 ns = 2752.0 dt\n",
    "- (1, 2) 327.111 ns = 1472.0 dt\n",
    "- (1, 3) 334.222 ns = 1504.0 dt\n",
    "- (2, 1) 291.556 ns = 1312.0 dt\n",
    "- (3, 1) 298.667 ns = 1344.0 dt\n",
    "- (3, 5) 960.000 ns = 4320.0 dt\n",
    "- (4, 5) 362.667 ns = 1632.0 dt\n",
    "- (5, 3) 995.556 ns = 4480.000000000001 dt\n",
    "- (5, 4) 327.111 ns = 1472.0 dt\n",
    "- (5, 6) 256.000 ns = 1152.0000000000002 dt\n",
    "- (6, 5) 291.556 ns = 1312.0 dt"
   ]
  }
 ],
 "metadata": {
  "kernelspec": {
   "display_name": ".venv",
   "language": "python",
   "name": "python3"
  },
  "language_info": {
   "codemirror_mode": {
    "name": "ipython",
    "version": 3
   },
   "file_extension": ".py",
   "mimetype": "text/x-python",
   "name": "python",
   "nbconvert_exporter": "python",
   "pygments_lexer": "ipython3",
   "version": "3.11.2"
  }
 },
 "nbformat": 4,
 "nbformat_minor": 2
}
